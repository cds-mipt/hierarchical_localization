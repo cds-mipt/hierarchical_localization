{
 "cells": [
  {
   "cell_type": "code",
   "execution_count": 9,
   "id": "excited-burden",
   "metadata": {},
   "outputs": [],
   "source": [
    "import cv2\n",
    "import numpy as np\n",
    "import glob\n",
    "from tqdm import tqdm"
   ]
  },
  {
   "cell_type": "code",
   "execution_count": null,
   "id": "severe-hybrid",
   "metadata": {},
   "outputs": [
    {
     "name": "stderr",
     "output_type": "stream",
     "text": [
      " 88%|████████▊ | 28161/31845 [14:32<02:19, 26.37it/s]  "
     ]
    }
   ],
   "source": [
    "directory = '/datasets/YaProfi/depth_maps_for_visualization/*.png'\n",
    "img_array = []\n",
    "for filename in tqdm(glob.glob(directory)):\n",
    "    if filename.find('Test_2021_03_27_03_30_47') == -1:\n",
    "        continue\n",
    "    img = cv2.imread(filename)\n",
    "    height, width, layers = img.shape\n",
    "    size = (width, height)\n",
    "    img_array.append(img)"
   ]
  },
  {
   "cell_type": "code",
   "execution_count": 7,
   "id": "announced-vietnam",
   "metadata": {},
   "outputs": [
    {
     "data": {
      "text/plain": [
       "['/datasets/YaProfi/gt_poses_2021-03-27-10-17-01.txt',\n",
       " '/datasets/YaProfi/depth_maps_for_visualization',\n",
       " '/datasets/YaProfi/gt_poses_2021-03-27-10-32-53.txt',\n",
       " '/datasets/YaProfi/Train',\n",
       " '/datasets/YaProfi/images',\n",
       " '/datasets/YaProfi/gt_poses_2021-03-27-03-30-47.txt',\n",
       " '/datasets/YaProfi/camera_info_left.txt',\n",
       " '/datasets/YaProfi/gt_poses_2021-03-31-12-33-50.txt',\n",
       " '/datasets/YaProfi/depth_maps',\n",
       " '/datasets/YaProfi/gt_poses_2021-03-27-09-08-15.txt',\n",
       " '/datasets/YaProfi/Test',\n",
       " '/datasets/YaProfi/NetVLAD_query_top_40.json',\n",
       " '/datasets/YaProfi/pair_for_SuperGlue.txt',\n",
       " '/datasets/YaProfi/NetVLAD_query_top_40.txt',\n",
       " '/datasets/YaProfi/metadata_for_NetVLAD.json',\n",
       " '/datasets/YaProfi/Hierarchical_Localization_outputs']"
      ]
     },
     "execution_count": 7,
     "metadata": {},
     "output_type": "execute_result"
    }
   ],
   "source": [
    "glob.glob('/datasets/YaProfi/*')"
   ]
  },
  {
   "cell_type": "code",
   "execution_count": null,
   "id": "civic-chair",
   "metadata": {},
   "outputs": [],
   "source": [
    "out = cv2.VideoWriter('/datasets/YaProfi/Test_2021_03_27_03_30_47_depth_maps.avi',cv2.VideoWriter_fourcc(*'DIVX'), 10, size)"
   ]
  },
  {
   "cell_type": "code",
   "execution_count": null,
   "id": "secure-photographer",
   "metadata": {},
   "outputs": [],
   "source": [
    "for i in range(len(img_array)):\n",
    "    out.write(img_array[i])\n",
    "out.release()"
   ]
  }
 ],
 "metadata": {
  "kernelspec": {
   "display_name": "Python 3",
   "language": "python",
   "name": "python3"
  },
  "language_info": {
   "codemirror_mode": {
    "name": "ipython",
    "version": 3
   },
   "file_extension": ".py",
   "mimetype": "text/x-python",
   "name": "python",
   "nbconvert_exporter": "python",
   "pygments_lexer": "ipython3",
   "version": "3.6.9"
  }
 },
 "nbformat": 4,
 "nbformat_minor": 5
}
